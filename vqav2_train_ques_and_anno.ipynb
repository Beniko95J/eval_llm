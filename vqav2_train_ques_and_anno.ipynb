{
 "cells": [
  {
   "cell_type": "code",
   "execution_count": 2,
   "metadata": {},
   "outputs": [],
   "source": [
    "import json\n",
    "import random"
   ]
  },
  {
   "cell_type": "code",
   "execution_count": 14,
   "metadata": {},
   "outputs": [
    {
     "name": "stdout",
     "output_type": "stream",
     "text": [
      "0. ques:\n",
      "Why does the ground look like it has square all over it in the background?\n",
      "0, anno:\n",
      "land ownership separation\n",
      "1. ques:\n",
      "What time does the clock show according to standard American time?\n",
      "1, anno:\n",
      "13:58\n",
      "2. ques:\n",
      "What color is the wall?\n",
      "2, anno:\n",
      "blue\n",
      "3. ques:\n",
      "Are they riding a bike?\n",
      "3, anno:\n",
      "no\n",
      "4. ques:\n",
      "What room is this?\n",
      "4, anno:\n",
      "kitchen\n",
      "5. ques:\n",
      "What color are the leaves?\n",
      "5, anno:\n",
      "green\n",
      "6. ques:\n",
      "What color is the tile on the wall?\n",
      "6, anno:\n",
      "gray\n",
      "7. ques:\n",
      "Are this toy horses?\n",
      "7, anno:\n",
      "no\n"
     ]
    }
   ],
   "source": [
    "vqav2_train_ques_path = 'vqav2_train_ques_and_anno/v2_OpenEnded_mscoco_train2014_questions.json'\n",
    "vqav2_train_anno_path = 'vqav2_train_ques_and_anno/v2_mscoco_train2014_annotations.json'\n",
    "\n",
    "questions = json.load(open(vqav2_train_ques_path, 'r'))['questions']\n",
    "annotations = json.load(open(vqav2_train_anno_path, 'r'))['annotations']\n",
    "\n",
    "# for idx, (ques, anno) in enumerate(zip(questions, annotations)):\n",
    "#     if idx >= 8:\n",
    "#         break\n",
    "\n",
    "#     print(f'{idx}. ques:')\n",
    "#     print(ques['question'])\n",
    "#     print(f'{idx}, anno:')\n",
    "#     print(anno['answers'][0]['answer'])\n",
    "\n",
    "sampled_list = []\n",
    "\n",
    "for idx, (ques, anno) in enumerate(random.sample(list(zip(questions, annotations)), 8)):\n",
    "    print(f'{idx}. ques:')\n",
    "    print(ques['question'])\n",
    "    print(f'{idx}, anno:')\n",
    "    print(anno['answers'][0]['answer'])\n",
    "\n",
    "    image = \"COCO_train2014_{:012d}.jpg\".format(int(ques['image_id']))\n",
    "\n",
    "    sampled_list.append((ques['question'], anno['answers'][0]['answer'], image))"
   ]
  },
  {
   "cell_type": "code",
   "execution_count": 15,
   "metadata": {},
   "outputs": [
    {
     "name": "stdout",
     "output_type": "stream",
     "text": [
      "[('Why does the ground look like it has square all over it in the background?', 'land ownership separation', 'COCO_train2014_000000405055.jpg'), ('What time does the clock show according to standard American time?', '13:58', 'COCO_train2014_000000168331.jpg'), ('What color is the wall?', 'blue', 'COCO_train2014_000000335140.jpg'), ('Are they riding a bike?', 'no', 'COCO_train2014_000000414130.jpg'), ('What room is this?', 'kitchen', 'COCO_train2014_000000564271.jpg'), ('What color are the leaves?', 'green', 'COCO_train2014_000000098720.jpg'), ('What color is the tile on the wall?', 'gray', 'COCO_train2014_000000209920.jpg'), ('Are this toy horses?', 'no', 'COCO_train2014_000000186883.jpg')]\n"
     ]
    }
   ],
   "source": [
    "print(sampled_list)"
   ]
  },
  {
   "cell_type": "code",
   "execution_count": 5,
   "metadata": {},
   "outputs": [],
   "source": [
    "json_list = [('Why does the ground look like it has square all over it in the background?', 'land ownership separation', 'COCO_train2014_000000405055.jpg'), ('What time does the clock show according to standard American time?', '13:58', 'COCO_train2014_000000168331.jpg'), ('What color is the wall?', 'blue', 'COCO_train2014_000000335140.jpg'), ('Are they riding a bike?', 'no', 'COCO_train2014_000000414130.jpg'), ('What room is this?', 'kitchen', 'COCO_train2014_000000564271.jpg'), ('What color are the leaves?', 'green', 'COCO_train2014_000000098720.jpg'), ('What color is the tile on the wall?', 'gray', 'COCO_train2014_000000209920.jpg'), ('Are this toy horses?', 'no', 'COCO_train2014_000000186883.jpg')]\n",
    "\n",
    "json_dict = {}\n",
    "for idx, s in enumerate(json_list):\n",
    "    json_dict[f'example_{idx}'] = {}\n",
    "    json_dict[f'example_{idx}']['image_path'] = s[2]\n",
    "    json_dict[f'example_{idx}']['instruction'] = s[0]\n",
    "    json_dict[f'example_{idx}']['output'] = s[1]\n",
    "\n",
    "json.dump(json_dict, open('vqav2_few_shots.json', 'w'))"
   ]
  }
 ],
 "metadata": {
  "kernelspec": {
   "display_name": "xgen",
   "language": "python",
   "name": "python3"
  },
  "language_info": {
   "codemirror_mode": {
    "name": "ipython",
    "version": 3
   },
   "file_extension": ".py",
   "mimetype": "text/x-python",
   "name": "python",
   "nbconvert_exporter": "python",
   "pygments_lexer": "ipython3",
   "version": "3.10.14"
  }
 },
 "nbformat": 4,
 "nbformat_minor": 2
}
